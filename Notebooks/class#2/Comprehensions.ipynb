{
 "cells": [
  {
   "cell_type": "markdown",
   "metadata": {},
   "source": [
    "## Comprehensions"
   ]
  },
  {
   "cell_type": "code",
   "execution_count": 4,
   "metadata": {},
   "outputs": [],
   "source": [
    "l = [2**i for i in range(1,10)]"
   ]
  },
  {
   "cell_type": "code",
   "execution_count": 5,
   "metadata": {},
   "outputs": [
    {
     "data": {
      "text/plain": [
       "[2, 4, 8, 16, 32, 64, 128, 256, 512]"
      ]
     },
     "execution_count": 5,
     "metadata": {},
     "output_type": "execute_result"
    }
   ],
   "source": [
    "l"
   ]
  },
  {
   "cell_type": "code",
   "execution_count": 6,
   "metadata": {},
   "outputs": [],
   "source": [
    "import random"
   ]
  },
  {
   "cell_type": "code",
   "execution_count": 15,
   "metadata": {},
   "outputs": [],
   "source": [
    "h = \"Ez a történet a szörnyen ostoba csütörtökről és a rendkívüli következményeiről szól, és arról, hogy miért sokkal biztonságosabb a világegyetem, ha van nálunk egy törülköző. Ez a történet emellett egy könyvről is szól, melynek címe: Galaxis Útikalauz stopposoknak. Ez nem földi könyv, sosem adták ki a Földön, és a szörnyű katasztrófát megelőzően egyetlen földlakó se látta vagy hallott róla. A könyv mindazonáltal szerfelett figyelemreméltó. Valószínűleg ez a legfigyelemreméltóbb könyv, ami csak napvilágot látott a Kisgöncöl óriási kiadóhivatalainak gondozásában – bár a földlakók ezekről se hallottak. Ez a könyv nem csupán hallatlanul figyelemreméltó, hanem elképesztően sikeres is. Népszerűbb, mint a Mennyei Házi Mindentudó, jobban fogy, mint a Hatvanhárom További Figura Súlytalanság Esetére című illusztrált kiadvány, és ellentmondásosabb, mint Oolon Coluphid filozófiai bombaként robbanó trilógiája: a Hol Tévedett Isten,a Még Néhány Isten Legsúlyosabb Tévedéseiből\""
   ]
  },
  {
   "cell_type": "code",
   "execution_count": 16,
   "metadata": {},
   "outputs": [],
   "source": [
    "words=h.split()"
   ]
  },
  {
   "cell_type": "code",
   "execution_count": 18,
   "metadata": {},
   "outputs": [
    {
     "data": {
      "text/plain": [
       "['Ez',\n",
       " 'a',\n",
       " 'történet',\n",
       " 'a',\n",
       " 'szörnyen',\n",
       " 'ostoba',\n",
       " 'csütörtökről',\n",
       " 'és',\n",
       " 'a',\n",
       " 'rendkívüli',\n",
       " 'következményeiről',\n",
       " 'szól,',\n",
       " 'és',\n",
       " 'arról,',\n",
       " 'hogy',\n",
       " 'miért',\n",
       " 'sokkal',\n",
       " 'biztonságosabb',\n",
       " 'a',\n",
       " 'világegyetem,',\n",
       " 'ha',\n",
       " 'van',\n",
       " 'nálunk',\n",
       " 'egy',\n",
       " 'törülköző.',\n",
       " 'Ez',\n",
       " 'a',\n",
       " 'történet',\n",
       " 'emellett',\n",
       " 'egy',\n",
       " 'könyvről',\n",
       " 'is',\n",
       " 'szól,',\n",
       " 'melynek',\n",
       " 'címe:',\n",
       " 'Galaxis',\n",
       " 'Útikalauz',\n",
       " 'stopposoknak.',\n",
       " 'Ez',\n",
       " 'nem',\n",
       " 'földi',\n",
       " 'könyv,',\n",
       " 'sosem',\n",
       " 'adták',\n",
       " 'ki',\n",
       " 'a',\n",
       " 'Földön,',\n",
       " 'és',\n",
       " 'a',\n",
       " 'szörnyű',\n",
       " 'katasztrófát',\n",
       " 'megelőzően',\n",
       " 'egyetlen',\n",
       " 'földlakó',\n",
       " 'se',\n",
       " 'látta',\n",
       " 'vagy',\n",
       " 'hallott',\n",
       " 'róla.',\n",
       " 'A',\n",
       " 'könyv',\n",
       " 'mindazonáltal',\n",
       " 'szerfelett',\n",
       " 'figyelemreméltó.',\n",
       " 'Valószínűleg',\n",
       " 'ez',\n",
       " 'a',\n",
       " 'legfigyelemreméltóbb',\n",
       " 'könyv,',\n",
       " 'ami',\n",
       " 'csak',\n",
       " 'napvilágot',\n",
       " 'látott',\n",
       " 'a',\n",
       " 'Kisgöncöl',\n",
       " 'óriási',\n",
       " 'kiadóhivatalainak',\n",
       " 'gondozásában',\n",
       " '–',\n",
       " 'bár',\n",
       " 'a',\n",
       " 'földlakók',\n",
       " 'ezekről',\n",
       " 'se',\n",
       " 'hallottak.',\n",
       " 'Ez',\n",
       " 'a',\n",
       " 'könyv',\n",
       " 'nem',\n",
       " 'csupán',\n",
       " 'hallatlanul',\n",
       " 'figyelemreméltó,',\n",
       " 'hanem',\n",
       " 'elképesztően',\n",
       " 'sikeres',\n",
       " 'is.',\n",
       " 'Népszerűbb,',\n",
       " 'mint',\n",
       " 'a',\n",
       " 'Mennyei',\n",
       " 'Házi',\n",
       " 'Mindentudó,',\n",
       " 'jobban',\n",
       " 'fogy,',\n",
       " 'mint',\n",
       " 'a',\n",
       " 'Hatvanhárom',\n",
       " 'További',\n",
       " 'Figura',\n",
       " 'Súlytalanság',\n",
       " 'Esetére',\n",
       " 'című',\n",
       " 'illusztrált',\n",
       " 'kiadvány,',\n",
       " 'és',\n",
       " 'ellentmondásosabb,',\n",
       " 'mint',\n",
       " 'Oolon',\n",
       " 'Coluphid',\n",
       " 'filozófiai',\n",
       " 'bombaként',\n",
       " 'robbanó',\n",
       " 'trilógiája:',\n",
       " 'a',\n",
       " 'Hol',\n",
       " 'Tévedett',\n",
       " 'Isten,a',\n",
       " 'Még',\n",
       " 'Néhány',\n",
       " 'Isten',\n",
       " 'Legsúlyosabb',\n",
       " 'Tévedéseiből']"
      ]
     },
     "execution_count": 18,
     "metadata": {},
     "output_type": "execute_result"
    }
   ],
   "source": [
    "words"
   ]
  },
  {
   "cell_type": "code",
   "execution_count": 23,
   "metadata": {},
   "outputs": [],
   "source": [
    "uniq_words={word.lower() for word in words}"
   ]
  },
  {
   "cell_type": "code",
   "execution_count": 25,
   "metadata": {},
   "outputs": [
    {
     "data": {
      "text/plain": [
       "132"
      ]
     },
     "execution_count": 25,
     "metadata": {},
     "output_type": "execute_result"
    }
   ],
   "source": [
    "len(words)"
   ]
  },
  {
   "cell_type": "code",
   "execution_count": 28,
   "metadata": {},
   "outputs": [
    {
     "data": {
      "text/plain": [
       "102"
      ]
     },
     "execution_count": 28,
     "metadata": {},
     "output_type": "execute_result"
    }
   ],
   "source": [
    "len(uniq_words)"
   ]
  },
  {
   "cell_type": "code",
   "execution_count": 32,
   "metadata": {},
   "outputs": [],
   "source": [
    "d ={v:i for i,v in enumerate(words)}"
   ]
  },
  {
   "cell_type": "code",
   "execution_count": 33,
   "metadata": {},
   "outputs": [
    {
     "data": {
      "text/plain": [
       "{'Ez': 85,\n",
       " 'a': 123,\n",
       " 'történet': 27,\n",
       " 'szörnyen': 4,\n",
       " 'ostoba': 5,\n",
       " 'csütörtökről': 6,\n",
       " 'és': 114,\n",
       " 'rendkívüli': 9,\n",
       " 'következményeiről': 10,\n",
       " 'szól,': 32,\n",
       " 'arról,': 13,\n",
       " 'hogy': 14,\n",
       " 'miért': 15,\n",
       " 'sokkal': 16,\n",
       " 'biztonságosabb': 17,\n",
       " 'világegyetem,': 19,\n",
       " 'ha': 20,\n",
       " 'van': 21,\n",
       " 'nálunk': 22,\n",
       " 'egy': 29,\n",
       " 'törülköző.': 24,\n",
       " 'emellett': 28,\n",
       " 'könyvről': 30,\n",
       " 'is': 31,\n",
       " 'melynek': 33,\n",
       " 'címe:': 34,\n",
       " 'Galaxis': 35,\n",
       " 'Útikalauz': 36,\n",
       " 'stopposoknak.': 37,\n",
       " 'nem': 88,\n",
       " 'földi': 40,\n",
       " 'könyv,': 68,\n",
       " 'sosem': 42,\n",
       " 'adták': 43,\n",
       " 'ki': 44,\n",
       " 'Földön,': 46,\n",
       " 'szörnyű': 49,\n",
       " 'katasztrófát': 50,\n",
       " 'megelőzően': 51,\n",
       " 'egyetlen': 52,\n",
       " 'földlakó': 53,\n",
       " 'se': 83,\n",
       " 'látta': 55,\n",
       " 'vagy': 56,\n",
       " 'hallott': 57,\n",
       " 'róla.': 58,\n",
       " 'A': 59,\n",
       " 'könyv': 87,\n",
       " 'mindazonáltal': 61,\n",
       " 'szerfelett': 62,\n",
       " 'figyelemreméltó.': 63,\n",
       " 'Valószínűleg': 64,\n",
       " 'ez': 65,\n",
       " 'legfigyelemreméltóbb': 67,\n",
       " 'ami': 69,\n",
       " 'csak': 70,\n",
       " 'napvilágot': 71,\n",
       " 'látott': 72,\n",
       " 'Kisgöncöl': 74,\n",
       " 'óriási': 75,\n",
       " 'kiadóhivatalainak': 76,\n",
       " 'gondozásában': 77,\n",
       " '–': 78,\n",
       " 'bár': 79,\n",
       " 'földlakók': 81,\n",
       " 'ezekről': 82,\n",
       " 'hallottak.': 84,\n",
       " 'csupán': 89,\n",
       " 'hallatlanul': 90,\n",
       " 'figyelemreméltó,': 91,\n",
       " 'hanem': 92,\n",
       " 'elképesztően': 93,\n",
       " 'sikeres': 94,\n",
       " 'is.': 95,\n",
       " 'Népszerűbb,': 96,\n",
       " 'mint': 116,\n",
       " 'Mennyei': 99,\n",
       " 'Házi': 100,\n",
       " 'Mindentudó,': 101,\n",
       " 'jobban': 102,\n",
       " 'fogy,': 103,\n",
       " 'Hatvanhárom': 106,\n",
       " 'További': 107,\n",
       " 'Figura': 108,\n",
       " 'Súlytalanság': 109,\n",
       " 'Esetére': 110,\n",
       " 'című': 111,\n",
       " 'illusztrált': 112,\n",
       " 'kiadvány,': 113,\n",
       " 'ellentmondásosabb,': 115,\n",
       " 'Oolon': 117,\n",
       " 'Coluphid': 118,\n",
       " 'filozófiai': 119,\n",
       " 'bombaként': 120,\n",
       " 'robbanó': 121,\n",
       " 'trilógiája:': 122,\n",
       " 'Hol': 124,\n",
       " 'Tévedett': 125,\n",
       " 'Isten,a': 126,\n",
       " 'Még': 127,\n",
       " 'Néhány': 128,\n",
       " 'Isten': 129,\n",
       " 'Legsúlyosabb': 130,\n",
       " 'Tévedéseiből': 131}"
      ]
     },
     "execution_count": 33,
     "metadata": {},
     "output_type": "execute_result"
    }
   ],
   "source": [
    "d"
   ]
  },
  {
   "cell_type": "code",
   "execution_count": null,
   "metadata": {},
   "outputs": [],
   "source": []
  },
  {
   "cell_type": "code",
   "execution_count": null,
   "metadata": {},
   "outputs": [],
   "source": []
  }
 ],
 "metadata": {
  "kernelspec": {
   "display_name": "Python 3",
   "language": "python",
   "name": "python3"
  },
  "language_info": {
   "codemirror_mode": {
    "name": "ipython",
    "version": 3
   },
   "file_extension": ".py",
   "mimetype": "text/x-python",
   "name": "python",
   "nbconvert_exporter": "python",
   "pygments_lexer": "ipython3",
   "version": "3.6.4"
  }
 },
 "nbformat": 4,
 "nbformat_minor": 2
}
